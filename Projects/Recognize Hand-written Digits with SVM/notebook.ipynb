{
  "cells": [
    {
      "metadata": {
        "_cell_guid": "b1076dfc-b9ad-4769-8c92-a6c4dae69d19",
        "_uuid": "8f2839f25d086af736a60e9eeb907d3b93b6e0e5",
        "trusted": true
      },
      "cell_type": "code",
      "source": "import numpy as np # linear algebra\nimport pandas as pd # data processing, CSV file I/O (e.g. pd.read_csv)\nimport matplotlib.pyplot as plt\nfrom sklearn import datasets, svm, metrics\nfrom sklearn.model_selection import train_test_split",
      "execution_count": 65,
      "outputs": []
    },
    {
      "metadata": {
        "collapsed": true,
        "_uuid": "d629ff2d2480ee46fbb7e2d37f6b5fab8052498a",
        "_cell_guid": "79c7e3d0-c299-4dcb-8224-4455121ee9b0",
        "trusted": false
      },
      "cell_type": "markdown",
      "source": "## Load and Explore Data"
    },
    {
      "metadata": {
        "trusted": true,
        "collapsed": true,
        "_uuid": "54e9521b0709c7e371b14ec1366727f96993c3bc"
      },
      "cell_type": "code",
      "source": "data = datasets.load_digits()",
      "execution_count": 3,
      "outputs": []
    },
    {
      "metadata": {
        "trusted": true,
        "_uuid": "318ab4669f41e02044df533f9c6ee093a977071a"
      },
      "cell_type": "code",
      "source": "print(data[\"DESCR\"])",
      "execution_count": 5,
      "outputs": [
        {
          "output_type": "stream",
          "text": "Optical Recognition of Handwritten Digits Data Set\n===================================================\n\nNotes\n-----\nData Set Characteristics:\n    :Number of Instances: 5620\n    :Number of Attributes: 64\n    :Attribute Information: 8x8 image of integer pixels in the range 0..16.\n    :Missing Attribute Values: None\n    :Creator: E. Alpaydin (alpaydin '@' boun.edu.tr)\n    :Date: July; 1998\n\nThis is a copy of the test set of the UCI ML hand-written digits datasets\nhttp://archive.ics.uci.edu/ml/datasets/Optical+Recognition+of+Handwritten+Digits\n\nThe data set contains images of hand-written digits: 10 classes where\neach class refers to a digit.\n\nPreprocessing programs made available by NIST were used to extract\nnormalized bitmaps of handwritten digits from a preprinted form. From a\ntotal of 43 people, 30 contributed to the training set and different 13\nto the test set. 32x32 bitmaps are divided into nonoverlapping blocks of\n4x4 and the number of on pixels are counted in each block. This generates\nan input matrix of 8x8 where each element is an integer in the range\n0..16. This reduces dimensionality and gives invariance to small\ndistortions.\n\nFor info on NIST preprocessing routines, see M. D. Garris, J. L. Blue, G.\nT. Candela, D. L. Dimmick, J. Geist, P. J. Grother, S. A. Janet, and C.\nL. Wilson, NIST Form-Based Handprint Recognition System, NISTIR 5469,\n1994.\n\nReferences\n----------\n  - C. Kaynak (1995) Methods of Combining Multiple Classifiers and Their\n    Applications to Handwritten Digit Recognition, MSc Thesis, Institute of\n    Graduate Studies in Science and Engineering, Bogazici University.\n  - E. Alpaydin, C. Kaynak (1998) Cascading Classifiers, Kybernetika.\n  - Ken Tang and Ponnuthurai N. Suganthan and Xi Yao and A. Kai Qin.\n    Linear dimensionalityreduction using relevance weighted LDA. School of\n    Electrical and Electronic Engineering Nanyang Technological University.\n    2005.\n  - Claudio Gentile. A New Approximate Maximal Margin Classification\n    Algorithm. NIPS. 2000.\n\n",
          "name": "stdout"
        }
      ]
    },
    {
      "metadata": {
        "trusted": true,
        "scrolled": false,
        "_uuid": "fcc742013764c0db875e009102c5c375b0cf2dba"
      },
      "cell_type": "code",
      "source": "data.data.shape",
      "execution_count": 6,
      "outputs": [
        {
          "output_type": "execute_result",
          "execution_count": 6,
          "data": {
            "text/plain": "(1797, 64)"
          },
          "metadata": {}
        }
      ]
    },
    {
      "metadata": {
        "trusted": true,
        "scrolled": false,
        "_uuid": "9e14c615df29ec8a8cf580ee171b695f9232e8b9"
      },
      "cell_type": "code",
      "source": "data.target.shape",
      "execution_count": 7,
      "outputs": [
        {
          "output_type": "execute_result",
          "execution_count": 7,
          "data": {
            "text/plain": "(1797,)"
          },
          "metadata": {}
        }
      ]
    },
    {
      "metadata": {
        "trusted": true,
        "collapsed": true,
        "_uuid": "0e8a9f5c6ae96ec0109e93b151f644da0b38b93b"
      },
      "cell_type": "code",
      "source": "X = data.data\ny = data.target",
      "execution_count": 75,
      "outputs": []
    },
    {
      "metadata": {
        "_uuid": "eeb36268a354dc6238e2e8dcb1bcfc08cfd1a4cf"
      },
      "cell_type": "markdown",
      "source": "## Preprocess"
    },
    {
      "metadata": {
        "trusted": true,
        "_uuid": "63b5d58555ce67094321a54f35a173dd51f9ed45"
      },
      "cell_type": "code",
      "source": "# from sklearn.preprocessing import scale\n# mean = X.mean()\n# std = X.std()\n# X = (X - mean)/std",
      "execution_count": 74,
      "outputs": []
    },
    {
      "metadata": {
        "trusted": true,
        "_uuid": "06b13b40a65fa3e93e0fc5c741081d13367577a0"
      },
      "cell_type": "code",
      "source": "plt.hist(X[0,:], density=True, histtype=\"step\")",
      "execution_count": 68,
      "outputs": [
        {
          "output_type": "execute_result",
          "execution_count": 68,
          "data": {
            "text/plain": "(array([1.94292098, 0.12534974, 0.18802461, 0.25069948, 0.12534974,\n        0.31337435, 0.31337435, 0.12534974, 0.37604922, 0.25069948]),\n array([-0.8117562 , -0.56245373, -0.31315126, -0.06384879,  0.18545368,\n         0.43475616,  0.68405863,  0.9333611 ,  1.18266357,  1.43196604,\n         1.68126851]),\n <a list of 1 Patch objects>)"
          },
          "metadata": {}
        },
        {
          "output_type": "display_data",
          "data": {
            "text/plain": "<matplotlib.figure.Figure at 0x7f985fba9eb8>",
            "image/png": "[encoded data removed]"
          },
          "metadata": {}
        }
      ]
    },
    {
      "metadata": {
        "_uuid": "1ecb34aef213def26fbe181e2f45150fe403333e"
      },
      "cell_type": "markdown",
      "source": "## Visualization"
    },
    {
      "metadata": {
        "trusted": true,
        "_uuid": "44209df0792743a4c0c0198d5d03d80be76aa37d"
      },
      "cell_type": "code",
      "source": "def plot_digit(number_of_digit, data, target):\n    row = data[number_of_digit,:]\n    plt.imshow(row.reshape(8,8), cmap=plt.cm.gray_r, interpolation='nearest')\n    plt.xticks(())\n    plt.yticks(())\n    plt.title(\"Target: \" + str(target[number_of_digit]), size=20)\n    \nplot_digit(0,X,y)",
      "execution_count": 69,
      "outputs": [
        {
          "output_type": "display_data",
          "data": {
            "text/plain": "<matplotlib.figure.Figure at 0x7f985fe954e0>",
            "image/png": "[encoded data removed]"
          },
          "metadata": {}
        }
      ]
    },
    {
      "metadata": {
        "trusted": true,
        "_uuid": "078a027201470c34c916f55ad7f7ef5abf4c9ac1"
      },
      "cell_type": "code",
      "source": "fig = plt.figure(figsize=(10, 12))\nfig.tight_layout()\nfor i in range(9):\n    plt.subplot(3,3, i+1)\n    plot_digit(i, X, y)",
      "execution_count": 70,
      "outputs": [
        {
          "output_type": "display_data",
          "data": {
            "text/plain": "<matplotlib.figure.Figure at 0x7f9860082128>",
            "image/png": "[encoded data removed]"
          },
          "metadata": {}
        }
      ]
    },
    {
      "metadata": {
        "_uuid": "a62e79ce596889ebd09505c16d64243d978d84c5"
      },
      "cell_type": "markdown",
      "source": "## SVM Classification"
    },
    {
      "metadata": {
        "trusted": true,
        "_uuid": "7b0b81bf4ac1528eae66e3b9acae081f2f096f76"
      },
      "cell_type": "code",
      "source": "X_train, X_test, y_train, y_test = train_test_split(X, y, test_size=0.33, random_state=42)\n\nmodel = svm.SVC(gamma=0.001)\nmodel.fit(X_train, y_train)\ny_prediction = model.predict(X_test)\nreport = metrics.classification_report(y_prediction,y_test)\nprint(\"SVM Classification Report\")\nprint(report)",
      "execution_count": 76,
      "outputs": [
        {
          "output_type": "stream",
          "text": "SVM Classification Report\n             precision    recall  f1-score   support\n\n          0       1.00      1.00      1.00        55\n          1       1.00      0.98      0.99        56\n          2       1.00      1.00      1.00        52\n          3       0.96      0.98      0.97        55\n          4       1.00      1.00      1.00        64\n          5       1.00      0.99      0.99        74\n          6       1.00      1.00      1.00        57\n          7       0.98      0.98      0.98        62\n          8       0.98      0.98      0.98        52\n          9       0.97      0.99      0.98        67\n\navg / total       0.99      0.99      0.99       594\n\n",
          "name": "stdout"
        }
      ]
    },
    {
      "metadata": {
        "trusted": true,
        "_uuid": "9d5c1319b8d50e35406bd14efaea163da471dad8"
      },
      "cell_type": "code",
      "source": "print(\"Confusion Matrix\")\nconfusion_matrix = metrics.confusion_matrix(y_prediction, y_test)\nprint(confusion_matrix)",
      "execution_count": 77,
      "outputs": [
        {
          "output_type": "stream",
          "text": "Confusion Matrix\n[[55  0  0  0  0  0  0  0  0  0]\n [ 0 55  0  0  0  0  0  0  1  0]\n [ 0  0 52  0  0  0  0  0  0  0]\n [ 0  0  0 54  0  0  0  0  0  1]\n [ 0  0  0  0 64  0  0  0  0  0]\n [ 0  0  0  1  0 73  0  0  0  0]\n [ 0  0  0  0  0  0 57  0  0  0]\n [ 0  0  0  0  0  0  0 61  0  1]\n [ 0  0  0  1  0  0  0  0 51  0]\n [ 0  0  0  0  0  0  0  1  0 66]]\n",
          "name": "stdout"
        }
      ]
    },
    {
      "metadata": {
        "trusted": true,
        "_uuid": "237f738c2a042129d7964ea7dc1d3ed7dd566ed0"
      },
      "cell_type": "code",
      "source": "fig = plt.figure(figsize=(10, 12))\nfig.tight_layout()\nfor i in range(9):\n    plt.subplot(3,3, i+1)\n    plot_digit(i, X_test, y_prediction)",
      "execution_count": 78,
      "outputs": [
        {
          "output_type": "display_data",
          "data": {
            "text/plain": "<matplotlib.figure.Figure at 0x7f985f9430b8>",
            "image/png": "[encoded data removed]"
          },
          "metadata": {}
        }
      ]
    },
    {
      "metadata": {
        "trusted": true,
        "collapsed": true,
        "_uuid": "547c14a2cd5c96076cbe3a9c1237c1973c26559b"
      },
      "cell_type": "code",
      "source": "",
      "execution_count": null,
      "outputs": []
    },
    {
      "metadata": {
        "trusted": true,
        "collapsed": true,
        "_uuid": "3dcf547396ff587d8c5007042e604967991d0580"
      },
      "cell_type": "code",
      "source": "",
      "execution_count": null,
      "outputs": []
    },
    {
      "metadata": {
        "trusted": true,
        "collapsed": true,
        "_uuid": "a63cfc0969a0e0f303441f6fddeffed4b9168c07"
      },
      "cell_type": "code",
      "source": "",
      "execution_count": null,
      "outputs": []
    },
    {
      "metadata": {
        "trusted": true,
        "collapsed": true,
        "_uuid": "083efb30454ce57fd66f9f0cd4ae5791f96bc1f4"
      },
      "cell_type": "code",
      "source": "",
      "execution_count": null,
      "outputs": []
    },
    {
      "metadata": {
        "trusted": true,
        "collapsed": true,
        "_uuid": "3c96a8b10380c2c6d6e4b3238808346f1a5326fb"
      },
      "cell_type": "code",
      "source": "",
      "execution_count": null,
      "outputs": []
    }
  ],
  "metadata": {
    "kernelspec": {
      "display_name": "Python 3",
      "language": "python",
      "name": "python3"
    },
    "language_info": {
      "name": "python",
      "version": "3.6.4",
      "mimetype": "text/x-python",
      "codemirror_mode": {
        "name": "ipython",
        "version": 3
      },
      "pygments_lexer": "ipython3",
      "nbconvert_exporter": "python",
      "file_extension": ".py"
    }
  },
  "nbformat": 4,
  "nbformat_minor": 1
}