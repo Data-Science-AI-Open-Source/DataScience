{
  "cells": [
    {
      "metadata": {
        "_cell_guid": "b1076dfc-b9ad-4769-8c92-a6c4dae69d19",
        "_uuid": "8f2839f25d086af736a60e9eeb907d3b93b6e0e5",
        "trusted": true
      },
      "cell_type": "code",
      "source": "import numpy as np # linear algebra\nimport pandas as pd # data processing, CSV file I/O (e.g. pd.read_csv)\nfrom sklearn import datasets\nfrom sklearn.metrics import confusion_matrix, classification_report\nfrom sklearn.model_selection import train_test_split\nimport matplotlib.pyplot as plt",
      "execution_count": 47,
      "outputs": []
    },
    {
      "metadata": {
        "_uuid": "d629ff2d2480ee46fbb7e2d37f6b5fab8052498a",
        "_cell_guid": "79c7e3d0-c299-4dcb-8224-4455121ee9b0",
        "collapsed": true
      },
      "cell_type": "markdown",
      "source": "# Predict Iris"
    },
    {
      "metadata": {
        "_uuid": "91b1123baa238fcb7ac48cc51f49c31b892acb84"
      },
      "cell_type": "markdown",
      "source": "## Load Data"
    },
    {
      "metadata": {
        "_cell_guid": "ff8049fc-33cd-40fe-815e-93315fa4a4f3",
        "_uuid": "ff7edf379e87b644668f5c5c0fccce3424bc0d69",
        "trusted": true
      },
      "cell_type": "code",
      "source": "iris = datasets.load_iris()\nprint(iris[\"DESCR\"])",
      "execution_count": 12,
      "outputs": [
        {
          "output_type": "stream",
          "text": "Iris Plants Database\n====================\n\nNotes\n-----\nData Set Characteristics:\n    :Number of Instances: 150 (50 in each of three classes)\n    :Number of Attributes: 4 numeric, predictive attributes and the class\n    :Attribute Information:\n        - sepal length in cm\n        - sepal width in cm\n        - petal length in cm\n        - petal width in cm\n        - class:\n                - Iris-Setosa\n                - Iris-Versicolour\n                - Iris-Virginica\n    :Summary Statistics:\n\n    ============== ==== ==== ======= ===== ====================\n                    Min  Max   Mean    SD   Class Correlation\n    ============== ==== ==== ======= ===== ====================\n    sepal length:   4.3  7.9   5.84   0.83    0.7826\n    sepal width:    2.0  4.4   3.05   0.43   -0.4194\n    petal length:   1.0  6.9   3.76   1.76    0.9490  (high!)\n    petal width:    0.1  2.5   1.20  0.76     0.9565  (high!)\n    ============== ==== ==== ======= ===== ====================\n\n    :Missing Attribute Values: None\n    :Class Distribution: 33.3% for each of 3 classes.\n    :Creator: R.A. Fisher\n    :Donor: Michael Marshall (MARSHALL%PLU@io.arc.nasa.gov)\n    :Date: July, 1988\n\nThis is a copy of UCI ML iris datasets.\nhttp://archive.ics.uci.edu/ml/datasets/Iris\n\nThe famous Iris database, first used by Sir R.A Fisher\n\nThis is perhaps the best known database to be found in the\npattern recognition literature.  Fisher's paper is a classic in the field and\nis referenced frequently to this day.  (See Duda & Hart, for example.)  The\ndata set contains 3 classes of 50 instances each, where each class refers to a\ntype of iris plant.  One class is linearly separable from the other 2; the\nlatter are NOT linearly separable from each other.\n\nReferences\n----------\n   - Fisher,R.A. \"The use of multiple measurements in taxonomic problems\"\n     Annual Eugenics, 7, Part II, 179-188 (1936); also in \"Contributions to\n     Mathematical Statistics\" (John Wiley, NY, 1950).\n   - Duda,R.O., & Hart,P.E. (1973) Pattern Classification and Scene Analysis.\n     (Q327.D83) John Wiley & Sons.  ISBN 0-471-22361-1.  See page 218.\n   - Dasarathy, B.V. (1980) \"Nosing Around the Neighborhood: A New System\n     Structure and Classification Rule for Recognition in Partially Exposed\n     Environments\".  IEEE Transactions on Pattern Analysis and Machine\n     Intelligence, Vol. PAMI-2, No. 1, 67-71.\n   - Gates, G.W. (1972) \"The Reduced Nearest Neighbor Rule\".  IEEE Transactions\n     on Information Theory, May 1972, 431-433.\n   - See also: 1988 MLC Proceedings, 54-64.  Cheeseman et al\"s AUTOCLASS II\n     conceptual clustering system finds 3 classes in the data.\n   - Many, many more ...\n\n",
          "name": "stdout"
        }
      ]
    },
    {
      "metadata": {
        "trusted": true,
        "_uuid": "06856f8c0f732191b05402346c0650055d8584a0"
      },
      "cell_type": "code",
      "source": "X = iris[\"data\"]\ny = iris[\"target\"]",
      "execution_count": 25,
      "outputs": []
    },
    {
      "metadata": {
        "_cell_guid": "8d7f4f14-1d22-47a6-80cc-94bd844b7e0b",
        "_uuid": "95c8220c6fa9bb0b5b5aa6938ff660475d56e3e6",
        "collapsed": true,
        "trusted": false
      },
      "cell_type": "markdown",
      "source": "## Visualization"
    },
    {
      "metadata": {
        "_cell_guid": "7348c63a-0517-4857-b11d-c3f4ec4ac4f2",
        "_uuid": "2ce7eebb3bd15401fb4612781a999e6373e9c90e",
        "trusted": true
      },
      "cell_type": "code",
      "source": "plt.scatter(X[:,0], X[:,1], c=y, cmap = plt.cm.Set2)\nplt.show()",
      "execution_count": 42,
      "outputs": [
        {
          "output_type": "display_data",
          "data": {
            "text/plain": "<matplotlib.figure.Figure at 0x7efbbd6f3390>",
            "image/png": "[encoded data removed]"
          },
          "metadata": {}
        }
      ]
    },
    {
      "metadata": {
        "_uuid": "45eaf8428b3ccc757e3e32903abaaf4841c2632c"
      },
      "cell_type": "markdown",
      "source": "## Preprocess"
    },
    {
      "metadata": {
        "trusted": true,
        "collapsed": true,
        "_uuid": "d3523f38ff4aef7c0e9daa99295831fa74bc3306"
      },
      "cell_type": "code",
      "source": "X_train, X_test, y_train, y_test = train_test_split(X, y, test_size=.33)",
      "execution_count": 64,
      "outputs": []
    },
    {
      "metadata": {
        "_cell_guid": "cb880756-0a56-49d7-a0ba-ae40d0c8fdef",
        "_uuid": "406df290f0764a4247e02cf7e123a1a408aec8e0",
        "collapsed": true,
        "trusted": false
      },
      "cell_type": "markdown",
      "source": "## SVC"
    },
    {
      "metadata": {
        "trusted": true,
        "collapsed": true,
        "_uuid": "5dd4df8fbaa8a29d662b3f99fb5e55d245bb9195"
      },
      "cell_type": "code",
      "source": "from sklearn.svm import SVC\nmodel = SVC()\n",
      "execution_count": 60,
      "outputs": []
    },
    {
      "metadata": {
        "trusted": true,
        "_uuid": "258b36ffe0da1604ac11a4129c99a60751c726a7"
      },
      "cell_type": "code",
      "source": "model.fit(X_train, y_train)\ny_predict = model.predict(X_test)\nprint(\"SVC Classification Report\")\nprint(classification_report(y_test, y_predict))",
      "execution_count": 65,
      "outputs": [
        {
          "output_type": "stream",
          "text": "SVC Classification Report\n             precision    recall  f1-score   support\n\n          0       1.00      1.00      1.00        11\n          1       0.85      1.00      0.92        17\n          2       1.00      0.86      0.93        22\n\navg / total       0.95      0.94      0.94        50\n\n",
          "name": "stdout"
        }
      ]
    },
    {
      "metadata": {
        "_uuid": "79995de686eb07f2e8dc52a9692897ec31ba0032"
      },
      "cell_type": "markdown",
      "source": "## KMeans"
    },
    {
      "metadata": {
        "trusted": true,
        "collapsed": true,
        "_uuid": "39ff6c320beec393c60539e6c8429ed2bbae7024"
      },
      "cell_type": "code",
      "source": "from sklearn.cluster import KMeans\nmodel = KMeans(n_clusters=3)",
      "execution_count": 66,
      "outputs": []
    },
    {
      "metadata": {
        "trusted": true,
        "_uuid": "5091910a7a2a1f35d2dac882369816e1690f083c"
      },
      "cell_type": "code",
      "source": "model.fit(X_train, y_train)\ny_predict = model.predict(X_test)\nprint(\"kMeans Classification Report\")\nprint(classification_report(y_test, y_predict))",
      "execution_count": 68,
      "outputs": [
        {
          "output_type": "stream",
          "text": "kMeans Classification Report\n             precision    recall  f1-score   support\n\n          0       0.00      0.00      0.00        11\n          1       0.00      0.00      0.00        17\n          2       0.33      0.36      0.35        22\n\navg / total       0.15      0.16      0.15        50\n\n",
          "name": "stdout"
        }
      ]
    },
    {
      "metadata": {
        "_uuid": "0a695e513b7637c816627dcc59d2114fcd22c375"
      },
      "cell_type": "markdown",
      "source": "## Logistic Regression"
    },
    {
      "metadata": {
        "trusted": true,
        "collapsed": true,
        "_uuid": "336d06dff9f78a58d7d6bc85a93bdbc4bf95ca6c"
      },
      "cell_type": "code",
      "source": "from sklearn.linear_model import LogisticRegression\nmodel = LogisticRegression()",
      "execution_count": 71,
      "outputs": []
    },
    {
      "metadata": {
        "trusted": true,
        "_uuid": "84371fd2b88dc9c73691e43dc84f660a254ba3cd"
      },
      "cell_type": "code",
      "source": "model.fit(X_train, y_train)\ny_predict = model.predict(X_test)\nprint(\"LogisticRegression Classification Report\")\nprint(classification_report(y_test, y_predict))",
      "execution_count": 74,
      "outputs": [
        {
          "output_type": "stream",
          "text": "LogisticRegression Classification Report\n             precision    recall  f1-score   support\n\n          0       1.00      1.00      1.00        11\n          1       0.94      0.94      0.94        17\n          2       0.95      0.95      0.95        22\n\navg / total       0.96      0.96      0.96        50\n\n",
          "name": "stdout"
        }
      ]
    }
  ],
  "metadata": {
    "kernelspec": {
      "display_name": "Python 3",
      "language": "python",
      "name": "python3"
    },
    "language_info": {
      "name": "python",
      "version": "3.6.4",
      "mimetype": "text/x-python",
      "codemirror_mode": {
        "name": "ipython",
        "version": 3
      },
      "pygments_lexer": "ipython3",
      "nbconvert_exporter": "python",
      "file_extension": ".py"
    }
  },
  "nbformat": 4,
  "nbformat_minor": 1
}