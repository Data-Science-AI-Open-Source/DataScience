{
  "cells": [
    {
      "metadata": {
        "_uuid": "c72fab5213015898e69a5eae9c780290e103e16a"
      },
      "cell_type": "markdown",
      "source": "## Math Mode\n```\n$a^{x}$\n$a_{x}$\n$\\frac{x}{y}$\n$\\sqrt[n]{x}$\n$\\sum_{k=1}^n$\n$\\prod_{k=1}^n$\n```\n$a^{x}$\n$a_{x}$\n$\\frac{x}{y}$\n$\\sqrt[n]{x}$\n$\\sum_{k=1}^n$\n$\\prod_{k=1}^n$"
    },
    {
      "metadata": {
        "_uuid": "509d9a0d4aa89293dd1bc6cbf2a38fd55eaa2cdb"
      },
      "cell_type": "markdown",
      "source": "## Symbols\n≤ `\\leq` ≥ `\\geq` $\\neq$ `\\neq` ≈ `\\approx`\n\n× `\\times` ÷ `\\div` ± `\\pm` · `\\cdot`\n\n$\\circ$ `^{\\circ}` $\\circ$ `\\circ`  $\\prime$ `\\prime` · · · `\\cdots`\n\n∞ `\\infty` ¬ `\\neg` ∧ `\\wedge` ∨ `\\vee`\n\n⊃ `\\supset` ∀ `\\forall` ∈ `\\in` → `\\rightarrow`\n\n⊂ `\\subset` ∃ `\\exists` $\\notin$`\\notin` ⇒ `\\Rightarrow`\n\n∪ `\\cup` ∩ `\\cap` | `\\mid` ⇔ `\\Leftrightarrow`\n\n$\\dot a$ `\\dot a`  $\\hat a$ `\\hat a`  $\\bar a$ `\\bar a`  $\\tilde a$ `\\tilde a`\n\nα `\\alpha` β `\\beta` γ `\\gamma` δ `\\delta`\n\n$\\epsilon$ `\\epsilon` ζ `\\zeta` η `\\eta` ε `\\varepsilon`\n\nθ `\\theta` ι `\\iota` κ `\\kappa` ϑ `\\vartheta`\n\nλ `\\lambda` µ `\\mu` ν `\\nu` ξ `\\xi`\n\nπ `\\pi` ρ `\\rho` σ `\\sigma` τ `\\tau`\n\nυ `\\upsilon` φ `\\phi` χ `\\chi` ψ `\\psi`\n\nω `\\omega` Γ `\\Gamma` ∆ `\\Delta` Θ `\\Theta`\n\nΛ `\\Lambda` Ξ `\\Xi` Π `\\Pi` Σ `\\Sigma`\n\nΥ `\\Upsilon` Φ `\\Phi` Ψ `\\Psi` Ω `\\Omega`"
    },
    {
      "metadata": {
        "_uuid": "145b5d911b226fc7be68161b1788db678bfcb2b8"
      },
      "cell_type": "markdown",
      "source": "## Greek Letters\n$\\alpha$ \\alpha\n\n$\\beta$ \\beta\n\n$\\gamma$ \\gamma\n\n$\\delta$ $\\Delta$ \\delta\n\n$\\epsilon$  \\epsilon\n\n$\\zeta$ \\zeta\n\n$\\eta$ \\eta\n\n$\\mu$ \\mu\n\n$\\nu$ \\nu\n\n$\\iota$ \\iota\n\n$\\lambda$ $\\Lambda$ \\lambda\n\n$\\theta$ $\\Theta$ \\theta\n\n$\\chi$ \\chi\n\n$\\psi$ $\\Psi$ \\psi\n\n$\\omega$ $\\Omega$ \\omega"
    },
    {
      "metadata": {
        "_uuid": "8f2839f25d086af736a60e9eeb907d3b93b6e0e5",
        "_cell_guid": "b1076dfc-b9ad-4769-8c92-a6c4dae69d19",
        "trusted": false
      },
      "cell_type": "markdown",
      "source": "## Multiple Lines\n```\n$\n \\dot x  = \\sigma(y-x)\\\\ \n \\dot{y} = \\rho x-y-xz\\\\\n \\dot{z} = -\\beta z + xy\n $\n ```\n \n$\n \\dot x  = \\sigma(y-x)\\\\ \n \\dot{y} = \\rho x-y-xz\\\\\n \\dot{z} = -\\beta z + xy\n $"
    }
  ],
  "metadata": {
    "language_info": {
      "name": "python",
      "version": "3.6.4",
      "mimetype": "text/x-python",
      "codemirror_mode": {
        "name": "ipython",
        "version": 3
      },
      "pygments_lexer": "ipython3",
      "nbconvert_exporter": "python",
      "file_extension": ".py"
    },
    "kernelspec": {
      "display_name": "Python 3",
      "language": "python",
      "name": "python3"
    }
  },
  "nbformat": 4,
  "nbformat_minor": 1
}