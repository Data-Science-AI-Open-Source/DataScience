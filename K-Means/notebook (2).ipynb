{
  "cells": [
    {
      "metadata": {
        "_uuid": "333de355786ba278bf02a579927709a97ea469e3",
        "_cell_guid": "af88708d-cffa-4bb6-83c3-9c6f7f86fa10"
      },
      "cell_type": "markdown",
      "source": "[-> Learn Data Science by Coding](https://www.kaggle.com/andyxie/learn-data-science-by-coding/)"
    },
    {
      "metadata": {
        "_uuid": "47128a211cdc8250bde65ee826ebeae16cfe7753",
        "_cell_guid": "52916c2c-8d28-44d7-a595-5416b46f934e"
      },
      "cell_type": "markdown",
      "source": "# Notes\nTo draw several several lines on one plot is as easy as repeating `plt.plot`:"
    },
    {
      "metadata": {
        "_uuid": "b84e9921a9c2527a2b33f79e775315fc360ac65c",
        "_cell_guid": "38d26513-183f-4500-b938-f288495dda48",
        "trusted": false,
        "collapsed": true
      },
      "cell_type": "code",
      "source": "# RUN ALL THE CODE BEFORE YOU START\nimport numpy as np\nfrom matplotlib.pylab import plt #load plot library\n# indicate the output of plotting function is printed to the notebook\n%matplotlib inline \n\n\ndef create_random_walk():\n    x = np.random.choice([-1,1],size=100, replace=True) # Sample with replacement from (-1, 1)\n    return np.cumsum(x) # Return the cumulative sum of the elements\nX = create_random_walk()\nY = create_random_walk()\nZ = create_random_walk()\n\n# Plotting functionality starts here\nplt.plot(X)\nplt.plot(Y)\nplt.plot(Z)\nplt.show()",
      "execution_count": null,
      "outputs": []
    },
    {
      "metadata": {
        "_uuid": "7722a2545df27c32008001e40a640aa80c431e9b",
        "_cell_guid": "b94a2c98-cb89-4245-afa1-130f4c9c8548"
      },
      "cell_type": "markdown",
      "source": "In addition to the line style like `'r'`, you can gain more detailed control over color configuration by specifying `color` parameter. More colors can be found in [http://matplotlib.org/users/colors.html](http://matplotlib.org/users/colors.html)."
    },
    {
      "metadata": {
        "_uuid": "2cebe81610a840ab9b4acbc594652a4ea6d6c03b",
        "_cell_guid": "ad8fe16d-d2f6-4f56-a3bd-6276bd948e8a",
        "trusted": false,
        "collapsed": true
      },
      "cell_type": "code",
      "source": "plt.plot(X, '-.', color=\"#333333\")\nplt.plot(Y, '-.', color=\"chocolate\")\nplt.plot(Z, '-.', color=\"green\")\nplt.show()",
      "execution_count": null,
      "outputs": []
    },
    {
      "metadata": {
        "_uuid": "a7fc166786358d520b296008690b9bfae525600d",
        "_cell_guid": "0a3a3622-a146-4d6e-8597-2d0e55888617"
      },
      "cell_type": "markdown",
      "source": "To add legend, you will first need to specify a label when plot `plt.plot(X, label=\"X\")`.  Then call `plt.legend()`. If you are not happy with the location of the legend, pass `loc=\"Location String\"` to `plt.legend()`. Here are some `Location String` to choose from:\n```\n===============   =============\nLocation String   Location Code\n===============   =============\n'best'            0\n'upper right'     1\n'upper left'      2\n'lower left'      3\n'lower right'     4\n'right'           5\n'center left'     6\n'center right'    7\n'lower center'    8\n'upper center'    9\n'center'          10\n===============   =============\n```"
    },
    {
      "metadata": {
        "_uuid": "f732de24cfe0ebfdd42519d2b29e2999aef34a45",
        "_cell_guid": "a09bead5-1ba6-42dd-93d2-6d99d4ee4425",
        "trusted": false,
        "collapsed": true
      },
      "cell_type": "code",
      "source": "plt.plot(X, label=\"X\")\nplt.plot(Y, label=\"Y\")\nplt.plot(Z, label=\"Z\")\n# Add legend\nplt.legend(loc='lower left')\n# Add title and x, y labels\nplt.title(\"Random Walk Example\", fontsize=16, fontweight='bold')\nplt.suptitle(\"Random Walk Suptitle\", fontsize=10)\nplt.xlabel(\"Number of Steps\")\nplt.ylabel(\"Accumulative Sum\")\nplt.show()",
      "execution_count": null,
      "outputs": []
    },
    {
      "metadata": {
        "_uuid": "5685f054db269a877e0f536872de47b9c7ef4b35",
        "_cell_guid": "9f0d6a78-59dc-4919-b509-2de364c126de"
      },
      "cell_type": "markdown",
      "source": "`plt.plot` will use default setting to make a plot, `plt.show()` will then render the plot:"
    },
    {
      "metadata": {
        "_uuid": "91409f8d5effc82512a82cd3b483d46e45635623",
        "_cell_guid": "1455c041-da1d-4079-8ad5-05093868b60a"
      },
      "cell_type": "markdown",
      "source": "# Task 1: Plot Multiple Lines\nPlot the following functions:\n$y=5x$, $y=x^2$, $y=e^{\\frac{3}{2}x}, x \\in [0, 6]$"
    },
    {
      "metadata": {
        "_uuid": "3fd7b04fa902fcf2634064fa6cde923b9d0851cc",
        "_cell_guid": "db9e9ea9-e6b1-4ae9-9be8-6f8e6ea166e2",
        "trusted": false,
        "collapsed": true
      },
      "cell_type": "code",
      "source": "# RUN ALL THE CODE BEFORE YOU START\nimport numpy as np\nfrom matplotlib.pylab import plt #load plot library\n# indicate the output of plotting function is printed to the notebook\n%matplotlib inline \n\nx = np.linspace(0, 6, 100)\ny_1 = 5*x\ny_2 = np.power(x, 2)\ny_3 = np.exp(x/1.5)\nplt.plot(x, y_1)\nplt.plot(x, y_2)\nplt.plot(x, y_3)\nplt.show()",
      "execution_count": null,
      "outputs": []
    },
    {
      "metadata": {
        "_uuid": "f0512accd071c2c97ac7276a4c780593567548b8",
        "_cell_guid": "08b1f25c-f557-4fb2-8ded-a1306d7fa8be"
      },
      "cell_type": "markdown",
      "source": "# Task 2: Change Line Style\nChange the lines to different level of gray, style to line, dotted-line and dash line."
    },
    {
      "metadata": {
        "_uuid": "bf284bf1be3a23069a5024d60a9bcd93e55c0ea3",
        "_cell_guid": "33841e30-ba94-41c8-8013-3e2d43f013da",
        "trusted": false,
        "collapsed": true
      },
      "cell_type": "code",
      "source": "plt.plot(x, y_1, '-.', color=\"#333333\")\nplt.plot(x, y_2, '--', color=\"#999999\")\nplt.plot(x, y_3, '-', color=\"#aaaaaa\")\nplt.show()",
      "execution_count": null,
      "outputs": []
    },
    {
      "metadata": {
        "_uuid": "cbea03731c09aad91f25fde5d08e71770cd86cbb",
        "_cell_guid": "37f00d6c-ae48-420d-b50d-12f40588b3c9"
      },
      "cell_type": "markdown",
      "source": "# Task 3: Plot Line with Error\nAdd legend. To use latex in label string, here is an exmpale:\n`label=\"$y=x$\"`"
    },
    {
      "metadata": {
        "_uuid": "d811d11de65277f4ab0b8faaadcf4ede70f1f517",
        "_cell_guid": "97157bea-7d98-46ba-80c2-4e85628108d9",
        "collapsed": true,
        "trusted": false
      },
      "cell_type": "code",
      "source": "plt.plot(x, y_1, '-.', color=\"#333333\", label=\"$y=5 * x$\")\nplt.plot(x, y_2, '--', color=\"#999999\", label=\"$y=x^2$\")\nplt.plot(x, y_3, '-', color=\"#aaaaaa\", label=\"$y=e^{3/2x}$\") # TODO: Fix the notation here\nplt.legend(loc=\"upper left\")\n\nplt.title(\"Several Functions\", fontsize=16, fontweight='bold')\nplt.xlabel(\"X Values\")\nplt.ylabel(\"Y Values\")\n\nplt.show()",
      "execution_count": null,
      "outputs": []
    },
    {
      "metadata": {
        "_uuid": "b24b04ee9e27070d1ef4a848ea797617ed40c09b",
        "_cell_guid": "774bf485-4bc5-43b5-b422-4b60748356cc"
      },
      "cell_type": "markdown",
      "source": "[-> Learn Data Science by Coding](https://www.kaggle.com/andyxie/learn-data-science-by-coding/)"
    }
  ],
  "metadata": {
    "kernelspec": {
      "display_name": "Python 3",
      "language": "python",
      "name": "python3"
    },
    "language_info": {
      "name": "python",
      "version": "3.6.4",
      "mimetype": "text/x-python",
      "codemirror_mode": {
        "name": "ipython",
        "version": 3
      },
      "pygments_lexer": "ipython3",
      "nbconvert_exporter": "python",
      "file_extension": ".py"
    }
  },
  "nbformat": 4,
  "nbformat_minor": 1
}